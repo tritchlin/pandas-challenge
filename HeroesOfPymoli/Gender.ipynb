{
 "metadata": {
  "language_info": {
   "codemirror_mode": {
    "name": "ipython",
    "version": 3
   },
   "file_extension": ".py",
   "mimetype": "text/x-python",
   "name": "python",
   "nbconvert_exporter": "python",
   "pygments_lexer": "ipython3",
   "version": "3.6.10"
  },
  "orig_nbformat": 2,
  "kernelspec": {
   "name": "python3610jvsc74a57bd003e16bf20b38c5bc3bf00c976c15238982088169e9834c6084af3096887b3e40",
   "display_name": "Python 3.6.10 64-bit ('PythonData': conda)"
  }
 },
 "nbformat": 4,
 "nbformat_minor": 2,
 "cells": [
  {
   "cell_type": "code",
   "execution_count": 1,
   "metadata": {},
   "outputs": [],
   "source": [
    "# Dependencies and Setup\n",
    "import pandas as pd\n",
    "\n",
    "# File to Load (Remember to Change These)\n",
    "data_csv = \"Resources/purchase_data.csv\"\n",
    "\n",
    "# Read Purchasing File and store into Pandas data frame\n",
    "purchase_data = pd.read_csv(data_csv)\n",
    "\n",
    "purchase_data_df = pd.DataFrame(purchase_data)"
   ]
  },
  {
   "cell_type": "code",
   "execution_count": 2,
   "metadata": {},
   "outputs": [],
   "source": [
    "# Formatting Variables\n",
    "currency = \"${:.2f}\".format\n",
    "percentage = \"{:.2f}%\".format"
   ]
  },
  {
   "cell_type": "code",
   "execution_count": 3,
   "metadata": {},
   "outputs": [
    {
     "output_type": "execute_result",
     "data": {
      "text/plain": [
       "   Total Players\n",
       "0            576"
      ],
      "text/html": "<div>\n<style scoped>\n    .dataframe tbody tr th:only-of-type {\n        vertical-align: middle;\n    }\n\n    .dataframe tbody tr th {\n        vertical-align: top;\n    }\n\n    .dataframe thead th {\n        text-align: right;\n    }\n</style>\n<table border=\"1\" class=\"dataframe\">\n  <thead>\n    <tr style=\"text-align: right;\">\n      <th></th>\n      <th>Total Players</th>\n    </tr>\n  </thead>\n  <tbody>\n    <tr>\n      <th>0</th>\n      <td>576</td>\n    </tr>\n  </tbody>\n</table>\n</div>"
     },
     "metadata": {},
     "execution_count": 3
    }
   ],
   "source": [
    "# Group dataframe by \"SN\" and count number of unique names\n",
    "player_unique_df = purchase_data_df.drop_duplicates(subset=\"SN\")\n",
    "player_count = len(player_unique_df)\n",
    "\n",
    "# Display total player count as dataframe and format column name\n",
    "player_count_df = pd.DataFrame([player_count])\n",
    "player_count_df.columns = [\"Total Players\"]\n",
    "\n",
    "player_count_df"
   ]
  },
  {
   "cell_type": "code",
   "execution_count": 4,
   "metadata": {},
   "outputs": [
    {
     "output_type": "execute_result",
     "data": {
      "text/plain": [
       "   Number of Unique Items Average Purchase Price  Number of Purchases  \\\n",
       "0                     179                  $3.05                  780   \n",
       "\n",
       "  Total Revenue  \n",
       "0      $2379.77  "
      ],
      "text/html": "<div>\n<style scoped>\n    .dataframe tbody tr th:only-of-type {\n        vertical-align: middle;\n    }\n\n    .dataframe tbody tr th {\n        vertical-align: top;\n    }\n\n    .dataframe thead th {\n        text-align: right;\n    }\n</style>\n<table border=\"1\" class=\"dataframe\">\n  <thead>\n    <tr style=\"text-align: right;\">\n      <th></th>\n      <th>Number of Unique Items</th>\n      <th>Average Purchase Price</th>\n      <th>Number of Purchases</th>\n      <th>Total Revenue</th>\n    </tr>\n  </thead>\n  <tbody>\n    <tr>\n      <th>0</th>\n      <td>179</td>\n      <td>$3.05</td>\n      <td>780</td>\n      <td>$2379.77</td>\n    </tr>\n  </tbody>\n</table>\n</div>"
     },
     "metadata": {},
     "execution_count": 4
    }
   ],
   "source": [
    "# Calculations for Purchasing Analysis = # Unique Items, Average Purchase Price, # of Purchases, and Total Revenue\n",
    "unique_items = len(purchase_data_df[\"Item ID\"].unique())\n",
    "average_price = purchase_data_df[\"Price\"].mean()\n",
    "total_purchase_count = len(purchase_data_df[\"Purchase ID\"].unique())\n",
    "total_revenue = purchase_data_df[\"Price\"].sum()\n",
    "\n",
    "unique_items, average_price, total_purchase_count,total_revenue\n",
    "\n",
    "#Define variable for and print summary table\n",
    "summary = {\"Number of Unique Items\":unique_items,\"Average Purchase Price\":currency(average_price),\"Number of Purchases\":total_purchase_count,\"Total Revenue\":currency(total_revenue)}\n",
    "purchasing_analysis_df = pd.DataFrame([summary])\n",
    "\n",
    "purchasing_analysis_df"
   ]
  },
  {
   "cell_type": "code",
   "execution_count": 5,
   "metadata": {},
   "outputs": [
    {
     "output_type": "execute_result",
     "data": {
      "text/plain": [
       "                       Total Count Percentage of Players\n",
       "Gender                                                  \n",
       "Female                          81                14.06%\n",
       "Male                           484                84.03%\n",
       "Other / Non-Disclosed           11                 1.91%"
      ],
      "text/html": "<div>\n<style scoped>\n    .dataframe tbody tr th:only-of-type {\n        vertical-align: middle;\n    }\n\n    .dataframe tbody tr th {\n        vertical-align: top;\n    }\n\n    .dataframe thead th {\n        text-align: right;\n    }\n</style>\n<table border=\"1\" class=\"dataframe\">\n  <thead>\n    <tr style=\"text-align: right;\">\n      <th></th>\n      <th>Total Count</th>\n      <th>Percentage of Players</th>\n    </tr>\n    <tr>\n      <th>Gender</th>\n      <th></th>\n      <th></th>\n    </tr>\n  </thead>\n  <tbody>\n    <tr>\n      <th>Female</th>\n      <td>81</td>\n      <td>14.06%</td>\n    </tr>\n    <tr>\n      <th>Male</th>\n      <td>484</td>\n      <td>84.03%</td>\n    </tr>\n    <tr>\n      <th>Other / Non-Disclosed</th>\n      <td>11</td>\n      <td>1.91%</td>\n    </tr>\n  </tbody>\n</table>\n</div>"
     },
     "metadata": {},
     "execution_count": 5
    }
   ],
   "source": [
    "# Calculate player count by unique SN and gender\n",
    "gender_count = player_unique_df.groupby(\"Gender\").count()\n",
    "\n",
    "gender_df = pd.DataFrame(gender_count)\n",
    "gender_df = gender_df.rename(columns={\"SN\":\"Total Count\"})\n",
    "\n",
    "# Change above player count to percentages\n",
    "gender_percentage = (gender_df[\"Total Count\"] / player_count)*100\n",
    "gender_percentage = gender_percentage.apply(\"{:.2f}%\".format)\n",
    "gender_percentage_df = pd.DataFrame(gender_percentage)\n",
    "gender_percentage_df = gender_percentage_df.rename(columns={\"Total Count\":\"Percentage of Players\"})\n",
    "\n",
    "# Merge 2 dataframes to show count and percentage. Source: https://www.dataindependent.com/pandas/pandas-merge/\n",
    "\n",
    "gender_demographics_df = pd.merge(gender_df[\"Total Count\"],gender_percentage_df[\"Percentage of Players\"],on=\"Gender\")\n",
    "\n",
    "gender_demographics_df"
   ]
  },
  {
   "cell_type": "code",
   "execution_count": 6,
   "metadata": {},
   "outputs": [
    {
     "output_type": "execute_result",
     "data": {
      "text/plain": [
       "                       Purchase Count Average Purchase Price  \\\n",
       "Gender                                                         \n",
       "Female                            113                  $3.20   \n",
       "Male                              652                  $3.02   \n",
       "Other / Non-Disclosed              15                  $3.35   \n",
       "\n",
       "                      Total Purchase Value Avg Total Purchase per Person  \n",
       "Gender                                                                    \n",
       "Female                             $361.94                         $4.47  \n",
       "Male                              $1967.64                         $4.07  \n",
       "Other / Non-Disclosed               $50.19                         $4.56  "
      ],
      "text/html": "<div>\n<style scoped>\n    .dataframe tbody tr th:only-of-type {\n        vertical-align: middle;\n    }\n\n    .dataframe tbody tr th {\n        vertical-align: top;\n    }\n\n    .dataframe thead th {\n        text-align: right;\n    }\n</style>\n<table border=\"1\" class=\"dataframe\">\n  <thead>\n    <tr style=\"text-align: right;\">\n      <th></th>\n      <th>Purchase Count</th>\n      <th>Average Purchase Price</th>\n      <th>Total Purchase Value</th>\n      <th>Avg Total Purchase per Person</th>\n    </tr>\n    <tr>\n      <th>Gender</th>\n      <th></th>\n      <th></th>\n      <th></th>\n      <th></th>\n    </tr>\n  </thead>\n  <tbody>\n    <tr>\n      <th>Female</th>\n      <td>113</td>\n      <td>$3.20</td>\n      <td>$361.94</td>\n      <td>$4.47</td>\n    </tr>\n    <tr>\n      <th>Male</th>\n      <td>652</td>\n      <td>$3.02</td>\n      <td>$1967.64</td>\n      <td>$4.07</td>\n    </tr>\n    <tr>\n      <th>Other / Non-Disclosed</th>\n      <td>15</td>\n      <td>$3.35</td>\n      <td>$50.19</td>\n      <td>$4.56</td>\n    </tr>\n  </tbody>\n</table>\n</div>"
     },
     "metadata": {},
     "execution_count": 6
    }
   ],
   "source": [
    "# Run basic calculations to obtain purchase count, avg. purchase price, avg. purchase total per person etc. by gender\n",
    "gender_sorted_df = purchase_data_df.groupby([\"Gender\"])\n",
    "gender_purch_count = gender_sorted_df[\"Gender\"].count()\n",
    "gender_average = gender_sorted_df[\"Price\"].mean()\n",
    "total_purchase_value = gender_sorted_df[\"Price\"].sum()\n",
    "avg_total_per = total_purchase_value/(gender_df[\"Total Count\"])\n",
    "\n",
    "# Create a summary data frame to hold the results\n",
    "gender_summary = {\"Purchase Count\":gender_purch_count,\"Average Purchase Price\":gender_average,\"Total Purchase Value\":total_purchase_value,\"Avg Total Purchase per Person\":avg_total_per}\n",
    "\n",
    "# Edit columns for cleaner formatting\n",
    "gender_summary_df = pd.DataFrame(gender_summary)\n",
    "gender_summary_df[\"Purchase Count\"] = gender_purch_count\n",
    "gender_summary_df[\"Average Purchase Price\"] = gender_average.apply(\"${:.2f}\".format)\n",
    "gender_summary_df[\"Total Purchase Value\"] = total_purchase_value.apply(\"${:.2f}\".format)\n",
    "gender_summary_df[\"Avg Total Purchase per Person\"] = avg_total_per.apply(\"${:.2f}\".format)\n",
    "\n",
    "# Display the summary data frame\n",
    "gender_summary_df"
   ]
  },
  {
   "cell_type": "code",
   "execution_count": null,
   "metadata": {},
   "outputs": [],
   "source": []
  }
 ]
}