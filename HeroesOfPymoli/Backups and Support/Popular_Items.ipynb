{
 "metadata": {
  "language_info": {
   "codemirror_mode": {
    "name": "ipython",
    "version": 3
   },
   "file_extension": ".py",
   "mimetype": "text/x-python",
   "name": "python",
   "nbconvert_exporter": "python",
   "pygments_lexer": "ipython3",
   "version": "3.8.5"
  },
  "orig_nbformat": 2,
  "kernelspec": {
   "name": "python385jvsc74a57bd0529132a0304f6942232d254cf48ed3625da64896b65b1a7f769697594a4a7c46",
   "display_name": "Python 3.8.5 64-bit ('base': conda)"
  }
 },
 "nbformat": 4,
 "nbformat_minor": 2,
 "cells": [
  {
   "cell_type": "code",
   "execution_count": 1,
   "metadata": {},
   "outputs": [],
   "source": [
    "# Dependencies and Setup\n",
    "import pandas as pd\n",
    "\n",
    "# File to Load (Remember to Change These)\n",
    "data_csv = \"Resources/purchase_data.csv\"\n",
    "\n",
    "# Read Purchasing File and store into Pandas data frame\n",
    "purchase_data = pd.read_csv(data_csv)\n",
    "purchase_data_df = pd.DataFrame(purchase_data)"
   ]
  },
  {
   "cell_type": "code",
   "execution_count": 14,
   "metadata": {},
   "outputs": [],
   "source": [
    "items_purchase_data_indexed = purchase_data_df.set_index([\"Item ID\",\"Item Name\"])\n",
    "popularitems_df = items_purchase_data_indexed.groupby([\"Item ID\",\"Item Name\"])"
   ]
  },
  {
   "cell_type": "code",
   "execution_count": 15,
   "metadata": {},
   "outputs": [],
   "source": [
    "# * Run basic calculations to obtain the results in the table below\n",
    "popularitems_purch_count = popularitems_df[\"Purchase ID\"].count()\n",
    "popularitems_purch_avg = popularitems_df[\"Price\"].mean()\n",
    "popularitems_total_purch = popularitems_df[\"Price\"].sum()\n",
    "\n",
    "# * Create a summary data frame to hold the results\n",
    "items_summary = {\"Purchase Count\":popularitems_purch_count,\n",
    "    \"Average Purchase Price\":popularitems_purch_avg,\n",
    "    \"Total Purchase Value\":popularitems_total_purch}\n",
    "items_summary_df = pd.DataFrame(items_summary)"
   ]
  },
  {
   "cell_type": "code",
   "execution_count": 19,
   "metadata": {},
   "outputs": [
    {
     "output_type": "execute_result",
     "data": {
      "text/plain": [
       "                                                      Purchase Count  \\\n",
       "Item ID Item Name                                                      \n",
       "92      Final Critic                                              13   \n",
       "178     Oathbreaker, Last Hope of the Breaking Storm              12   \n",
       "145     Fiery Glass Crusader                                       9   \n",
       "132     Persuasion                                                 9   \n",
       "108     Extraction, Quickblade Of Trembling Hands                  9   \n",
       "\n",
       "                                                     Average Purchase Price  \\\n",
       "Item ID Item Name                                                             \n",
       "92      Final Critic                                                  $4.61   \n",
       "178     Oathbreaker, Last Hope of the Breaking Storm                  $4.23   \n",
       "145     Fiery Glass Crusader                                          $4.58   \n",
       "132     Persuasion                                                    $3.22   \n",
       "108     Extraction, Quickblade Of Trembling Hands                     $3.53   \n",
       "\n",
       "                                                     Total Purchase Value  \n",
       "Item ID Item Name                                                          \n",
       "92      Final Critic                                               $59.99  \n",
       "178     Oathbreaker, Last Hope of the Breaking Storm               $50.76  \n",
       "145     Fiery Glass Crusader                                       $41.22  \n",
       "132     Persuasion                                                 $28.99  \n",
       "108     Extraction, Quickblade Of Trembling Hands                  $31.77  "
      ],
      "text/html": "<div>\n<style scoped>\n    .dataframe tbody tr th:only-of-type {\n        vertical-align: middle;\n    }\n\n    .dataframe tbody tr th {\n        vertical-align: top;\n    }\n\n    .dataframe thead th {\n        text-align: right;\n    }\n</style>\n<table border=\"1\" class=\"dataframe\">\n  <thead>\n    <tr style=\"text-align: right;\">\n      <th></th>\n      <th></th>\n      <th>Purchase Count</th>\n      <th>Average Purchase Price</th>\n      <th>Total Purchase Value</th>\n    </tr>\n    <tr>\n      <th>Item ID</th>\n      <th>Item Name</th>\n      <th></th>\n      <th></th>\n      <th></th>\n    </tr>\n  </thead>\n  <tbody>\n    <tr>\n      <th>92</th>\n      <th>Final Critic</th>\n      <td>13</td>\n      <td>$4.61</td>\n      <td>$59.99</td>\n    </tr>\n    <tr>\n      <th>178</th>\n      <th>Oathbreaker, Last Hope of the Breaking Storm</th>\n      <td>12</td>\n      <td>$4.23</td>\n      <td>$50.76</td>\n    </tr>\n    <tr>\n      <th>145</th>\n      <th>Fiery Glass Crusader</th>\n      <td>9</td>\n      <td>$4.58</td>\n      <td>$41.22</td>\n    </tr>\n    <tr>\n      <th>132</th>\n      <th>Persuasion</th>\n      <td>9</td>\n      <td>$3.22</td>\n      <td>$28.99</td>\n    </tr>\n    <tr>\n      <th>108</th>\n      <th>Extraction, Quickblade Of Trembling Hands</th>\n      <td>9</td>\n      <td>$3.53</td>\n      <td>$31.77</td>\n    </tr>\n  </tbody>\n</table>\n</div>"
     },
     "metadata": {},
     "execution_count": 19
    }
   ],
   "source": [
    "# * Sort the total purchase value column in descending order\n",
    "items_summary_sorted = items_summary_df.sort_values(by =\"Purchase Count\",ascending = False)\n",
    "\n",
    "# * Optional: give the displayed data cleaner formatting\n",
    "items_summary_sorted[\"Average Purchase Price\"] = popularitems_purch_avg.apply(\"${:.2f}\".format)\n",
    "items_summary_sorted[\"Total Purchase Value\"]=popularitems_total_purch.apply(\"${:.2f}\".format)\n",
    "\n",
    "# * Display a preview of the summary data frame\n",
    "items_summary_sorted.head()"
   ]
  },
  {
   "cell_type": "code",
   "execution_count": null,
   "metadata": {},
   "outputs": [],
   "source": []
  }
 ]
}