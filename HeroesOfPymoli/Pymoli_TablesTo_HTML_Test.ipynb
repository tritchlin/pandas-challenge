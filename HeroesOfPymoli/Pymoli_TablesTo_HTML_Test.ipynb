{
 "cells": [
  {
   "cell_type": "code",
   "execution_count": 1,
   "metadata": {},
   "outputs": [],
   "source": [
    "# Dependencies and Setup\n",
    "import pandas as pd\n",
    "import locale\n",
    "\n",
    "# Set number and currency formatting\n",
    "locale.setlocale(locale.LC_ALL,'en_US')\n",
    "locale._override_localeconv = {\"n_sign_posn\": 3}\n",
    "\n",
    "# File to Load (Remember to Change These)\n",
    "data_csv = \"Resources/purchase_data.csv\"\n",
    "\n",
    "# Read Purchasing File and store into Pandas data frame\n",
    "purchase_data = pd.read_csv(data_csv)\n",
    "purchase_data_df = pd.DataFrame(purchase_data)"
   ]
  },
  {
   "source": [
    "# Formatting Variables\n",
    "currency = \"${:.2f}\".format\n",
    "percentage = \"{:.2f}%\".format"
   ],
   "cell_type": "code",
   "metadata": {},
   "execution_count": 2,
   "outputs": []
  },
  {
   "cell_type": "code",
   "execution_count": 3,
   "metadata": {},
   "outputs": [
    {
     "output_type": "execute_result",
     "data": {
      "text/plain": [
       "   Total Players\n",
       "0            576"
      ],
      "text/html": "<div>\n<style scoped>\n    .dataframe tbody tr th:only-of-type {\n        vertical-align: middle;\n    }\n\n    .dataframe tbody tr th {\n        vertical-align: top;\n    }\n\n    .dataframe thead th {\n        text-align: right;\n    }\n</style>\n<table border=\"1\" class=\"dataframe\">\n  <thead>\n    <tr style=\"text-align: right;\">\n      <th></th>\n      <th>Total Players</th>\n    </tr>\n  </thead>\n  <tbody>\n    <tr>\n      <th>0</th>\n      <td>576</td>\n    </tr>\n  </tbody>\n</table>\n</div>"
     },
     "metadata": {},
     "execution_count": 3
    }
   ],
   "source": [
    "# Group dataframe by \"SN\" and count number of unique names\n",
    "player_unique_df = purchase_data_df.drop_duplicates(subset=\"SN\")\n",
    "player_count = len(player_unique_df)\n",
    "\n",
    "# Display total player count as dataframe and format column name\n",
    "player_count_df = pd.DataFrame([player_count])\n",
    "player_count_df.columns = [\"Total Players\"]\n",
    "\n",
    "player_count_df"
   ]
  },
  {
   "cell_type": "code",
   "execution_count": 4,
   "metadata": {
    "scrolled": true
   },
   "outputs": [
    {
     "output_type": "execute_result",
     "data": {
      "text/plain": [
       "   Number of Unique Items Average Purchase Price  Number of Purchases  \\\n",
       "0                     179                  $3.05                  780   \n",
       "\n",
       "  Total Revenue  \n",
       "0      $2379.77  "
      ],
      "text/html": "<div>\n<style scoped>\n    .dataframe tbody tr th:only-of-type {\n        vertical-align: middle;\n    }\n\n    .dataframe tbody tr th {\n        vertical-align: top;\n    }\n\n    .dataframe thead th {\n        text-align: right;\n    }\n</style>\n<table border=\"1\" class=\"dataframe\">\n  <thead>\n    <tr style=\"text-align: right;\">\n      <th></th>\n      <th>Number of Unique Items</th>\n      <th>Average Purchase Price</th>\n      <th>Number of Purchases</th>\n      <th>Total Revenue</th>\n    </tr>\n  </thead>\n  <tbody>\n    <tr>\n      <th>0</th>\n      <td>179</td>\n      <td>$3.05</td>\n      <td>780</td>\n      <td>$2379.77</td>\n    </tr>\n  </tbody>\n</table>\n</div>"
     },
     "metadata": {},
     "execution_count": 4
    }
   ],
   "source": [
    "# Calculations for Purchasing Analysis = # Unique Items, Average Purchase Price, # of Purchases, and Total Revenue\n",
    "unique_items = len(purchase_data_df[\"Item ID\"].unique())\n",
    "average_price = purchase_data_df[\"Price\"].mean()\n",
    "total_purchase_count = len(purchase_data_df[\"Purchase ID\"].unique())\n",
    "total_revenue = purchase_data_df[\"Price\"].sum()\n",
    "\n",
    "unique_items, average_price, total_purchase_count,total_revenue\n",
    "\n",
    "#Define variable for and print summary table\n",
    "summary = {\n",
    "    \"Number of Unique Items\":unique_items,\n",
    "    \"Average Purchase Price\":locale.currency(average_price,grouping=True),\n",
    "    \"Number of Purchases\":total_purchase_count,\n",
    "    \"Total Revenue\":locale.currency(total_revenue,grouping=True)}\n",
    "\n",
    "purchasing_analysis_df = pd.DataFrame([summary])\n",
    "\n",
    "purchasing_analysis_df"
   ]
  },
  {
   "cell_type": "code",
   "execution_count": 5,
   "metadata": {},
   "outputs": [
    {
     "output_type": "execute_result",
     "data": {
      "text/plain": [
       "                       Total Count Percentage of Players\n",
       "Gender                                                  \n",
       "Female                          81                14.06%\n",
       "Male                           484                84.03%\n",
       "Other / Non-Disclosed           11                 1.91%"
      ],
      "text/html": "<div>\n<style scoped>\n    .dataframe tbody tr th:only-of-type {\n        vertical-align: middle;\n    }\n\n    .dataframe tbody tr th {\n        vertical-align: top;\n    }\n\n    .dataframe thead th {\n        text-align: right;\n    }\n</style>\n<table border=\"1\" class=\"dataframe\">\n  <thead>\n    <tr style=\"text-align: right;\">\n      <th></th>\n      <th>Total Count</th>\n      <th>Percentage of Players</th>\n    </tr>\n    <tr>\n      <th>Gender</th>\n      <th></th>\n      <th></th>\n    </tr>\n  </thead>\n  <tbody>\n    <tr>\n      <th>Female</th>\n      <td>81</td>\n      <td>14.06%</td>\n    </tr>\n    <tr>\n      <th>Male</th>\n      <td>484</td>\n      <td>84.03%</td>\n    </tr>\n    <tr>\n      <th>Other / Non-Disclosed</th>\n      <td>11</td>\n      <td>1.91%</td>\n    </tr>\n  </tbody>\n</table>\n</div>"
     },
     "metadata": {},
     "execution_count": 5
    }
   ],
   "source": [
    "# Calculate player count by unique SN and gender\n",
    "gender_count = player_unique_df.groupby(\"Gender\").count()\n",
    "\n",
    "gender_df = pd.DataFrame(gender_count)\n",
    "gender_df = gender_df.rename(columns={\"SN\":\"Total Count\"})\n",
    "\n",
    "# Change above player count to percentages\n",
    "gender_percentage = (gender_df[\"Total Count\"] / player_count)*100\n",
    "gender_percentage = gender_percentage.apply(\"{:.2f}%\".format)\n",
    "gender_percentage_df = pd.DataFrame(gender_percentage)\n",
    "gender_percentage_df = gender_percentage_df.rename(columns={\"Total Count\":\"Percentage of Players\"})\n",
    "\n",
    "# Merge 2 dataframes to show count and percentage. Source: https://www.dataindependent.com/pandas/pandas-merge/\n",
    "\n",
    "gender_demographics_df = pd.merge(gender_df[\"Total Count\"],gender_percentage_df[\"Percentage of Players\"],on=\"Gender\")\n",
    "\n",
    "gender_demographics_df"
   ]
  },
  {
   "source": [
    "# Run basic calculations to obtain purchase count, avg. purchase price, avg. purchase total per person etc. by gender\n",
    "gender_sorted_df = purchase_data_df.groupby([\"Gender\"])\n",
    "gender_purch_count = gender_sorted_df[\"Gender\"].count()\n",
    "gender_average = gender_sorted_df[\"Price\"].mean()\n",
    "total_purchase_value = gender_sorted_df[\"Price\"].sum()\n",
    "avg_total_per = total_purchase_value/(gender_df[\"Total Count\"])\n",
    "\n",
    "# Create a summary data frame to hold the results\n",
    "gender_summary = {\"Purchase Count\":gender_purch_count,\"Average Purchase Price\":gender_average,\"Total Purchase Value\":total_purchase_value,\"Avg Total Purchase per Person\":avg_total_per}\n",
    "\n",
    "# Edit columns for cleaner formatting\n",
    "gender_summary_df = pd.DataFrame(gender_summary)\n",
    "gender_summary_df[\"Purchase Count\"] = gender_purch_count\n",
    "gender_summary_df[\"Average Purchase Price\"] = locale.currency(gender_average,grouping=True\n",
    "gender_summary_df[\"Total Purchase Value\"] = locale.currency(total_purchase_value,grouping=Tru)\n",
    "gender_summary_df[\"Avg Total Purchase per Person\"] = locale_currency(avg_total_per,grouping=True)\n",
    "\n",
    "# Display the summary data frame\n",
    "gender_summary_df"
   ],
   "cell_type": "code",
   "metadata": {},
   "execution_count": 6,
   "outputs": [
    {
     "output_type": "execute_result",
     "data": {
      "text/plain": [
       "                       Purchase Count Average Purchase Price  \\\n",
       "Gender                                                         \n",
       "Female                            113                  $3.20   \n",
       "Male                              652                  $3.02   \n",
       "Other / Non-Disclosed              15                  $3.35   \n",
       "\n",
       "                      Total Purchase Value Avg Total Purchase per Person  \n",
       "Gender                                                                    \n",
       "Female                             $361.94                         $4.47  \n",
       "Male                              $1967.64                         $4.07  \n",
       "Other / Non-Disclosed               $50.19                         $4.56  "
      ],
      "text/html": "<div>\n<style scoped>\n    .dataframe tbody tr th:only-of-type {\n        vertical-align: middle;\n    }\n\n    .dataframe tbody tr th {\n        vertical-align: top;\n    }\n\n    .dataframe thead th {\n        text-align: right;\n    }\n</style>\n<table border=\"1\" class=\"dataframe\">\n  <thead>\n    <tr style=\"text-align: right;\">\n      <th></th>\n      <th>Purchase Count</th>\n      <th>Average Purchase Price</th>\n      <th>Total Purchase Value</th>\n      <th>Avg Total Purchase per Person</th>\n    </tr>\n    <tr>\n      <th>Gender</th>\n      <th></th>\n      <th></th>\n      <th></th>\n      <th></th>\n    </tr>\n  </thead>\n  <tbody>\n    <tr>\n      <th>Female</th>\n      <td>113</td>\n      <td>$3.20</td>\n      <td>$361.94</td>\n      <td>$4.47</td>\n    </tr>\n    <tr>\n      <th>Male</th>\n      <td>652</td>\n      <td>$3.02</td>\n      <td>$1967.64</td>\n      <td>$4.07</td>\n    </tr>\n    <tr>\n      <th>Other / Non-Disclosed</th>\n      <td>15</td>\n      <td>$3.35</td>\n      <td>$50.19</td>\n      <td>$4.56</td>\n    </tr>\n  </tbody>\n</table>\n</div>"
     },
     "metadata": {},
     "execution_count": 6
    }
   ]
  },
  {
   "source": [
    "# Establish bins for ages, categorize players by age group\n",
    "bins = [0,9,14,19,24,29,34,39,100]\n",
    "bin_names = [\"<10\",\"10-14\",\"15-19\",\"20-24\",\"25-29\",\"30-34\",\"35-39\",\"40+\"]\n",
    "\n",
    "# Calculate player count and percentages by age group, include formatting\n",
    "player_age = pd.cut(player_unique_df[\"Age\"],bins,labels = bin_names,include_lowest=True)\n",
    "age_count = player_age.value_counts()\n",
    "age_percentage = (age_count/player_count)*100\n",
    "age_population = {\"Total Count\":age_count,\"Percentage of Players\":age_percentage.apply(\"{:.2f}%\".format)}\n",
    "\n",
    "# Create and display a summary data frame to hold the results, with index sorted from youngest to oldest.\n",
    "age_df = pd.DataFrame(age_population).sort_index(axis=0)\n",
    "age_df"
   ],
   "cell_type": "code",
   "metadata": {},
   "execution_count": 7,
   "outputs": [
    {
     "output_type": "execute_result",
     "data": {
      "text/plain": [
       "       Total Count Percentage of Players\n",
       "<10             17                 2.95%\n",
       "10-14           22                 3.82%\n",
       "15-19          107                18.58%\n",
       "20-24          258                44.79%\n",
       "25-29           77                13.37%\n",
       "30-34           52                 9.03%\n",
       "35-39           31                 5.38%\n",
       "40+             12                 2.08%"
      ],
      "text/html": "<div>\n<style scoped>\n    .dataframe tbody tr th:only-of-type {\n        vertical-align: middle;\n    }\n\n    .dataframe tbody tr th {\n        vertical-align: top;\n    }\n\n    .dataframe thead th {\n        text-align: right;\n    }\n</style>\n<table border=\"1\" class=\"dataframe\">\n  <thead>\n    <tr style=\"text-align: right;\">\n      <th></th>\n      <th>Total Count</th>\n      <th>Percentage of Players</th>\n    </tr>\n  </thead>\n  <tbody>\n    <tr>\n      <th>&lt;10</th>\n      <td>17</td>\n      <td>2.95%</td>\n    </tr>\n    <tr>\n      <th>10-14</th>\n      <td>22</td>\n      <td>3.82%</td>\n    </tr>\n    <tr>\n      <th>15-19</th>\n      <td>107</td>\n      <td>18.58%</td>\n    </tr>\n    <tr>\n      <th>20-24</th>\n      <td>258</td>\n      <td>44.79%</td>\n    </tr>\n    <tr>\n      <th>25-29</th>\n      <td>77</td>\n      <td>13.37%</td>\n    </tr>\n    <tr>\n      <th>30-34</th>\n      <td>52</td>\n      <td>9.03%</td>\n    </tr>\n    <tr>\n      <th>35-39</th>\n      <td>31</td>\n      <td>5.38%</td>\n    </tr>\n    <tr>\n      <th>40+</th>\n      <td>12</td>\n      <td>2.08%</td>\n    </tr>\n  </tbody>\n</table>\n</div>"
     },
     "metadata": {},
     "execution_count": 7
    }
   ]
  },
  {
   "cell_type": "code",
   "execution_count": 8,
   "metadata": {},
   "outputs": [
    {
     "output_type": "execute_result",
     "data": {
      "text/plain": [
       "       Purchase Count Average Purchase Price Total Purchase Value  \\\n",
       "<10                23                  $3.35               $77.13   \n",
       "10-14              28                  $2.96               $82.78   \n",
       "15-19             136                  $3.04              $412.89   \n",
       "20-24             365                  $3.05             $1114.06   \n",
       "25-29             101                  $2.90              $293.00   \n",
       "30-34              73                  $2.93              $214.00   \n",
       "35-39              41                  $3.60              $147.67   \n",
       "40+                13                  $2.94               $38.24   \n",
       "\n",
       "      Avg Total Purchase per Person  \n",
       "<10                           $4.54  \n",
       "10-14                         $3.76  \n",
       "15-19                         $3.86  \n",
       "20-24                         $4.32  \n",
       "25-29                         $3.81  \n",
       "30-34                         $4.12  \n",
       "35-39                         $4.76  \n",
       "40+                           $3.19  "
      ],
      "text/html": "<div>\n<style scoped>\n    .dataframe tbody tr th:only-of-type {\n        vertical-align: middle;\n    }\n\n    .dataframe tbody tr th {\n        vertical-align: top;\n    }\n\n    .dataframe thead th {\n        text-align: right;\n    }\n</style>\n<table border=\"1\" class=\"dataframe\">\n  <thead>\n    <tr style=\"text-align: right;\">\n      <th></th>\n      <th>Purchase Count</th>\n      <th>Average Purchase Price</th>\n      <th>Total Purchase Value</th>\n      <th>Avg Total Purchase per Person</th>\n    </tr>\n  </thead>\n  <tbody>\n    <tr>\n      <th>&lt;10</th>\n      <td>23</td>\n      <td>$3.35</td>\n      <td>$77.13</td>\n      <td>$4.54</td>\n    </tr>\n    <tr>\n      <th>10-14</th>\n      <td>28</td>\n      <td>$2.96</td>\n      <td>$82.78</td>\n      <td>$3.76</td>\n    </tr>\n    <tr>\n      <th>15-19</th>\n      <td>136</td>\n      <td>$3.04</td>\n      <td>$412.89</td>\n      <td>$3.86</td>\n    </tr>\n    <tr>\n      <th>20-24</th>\n      <td>365</td>\n      <td>$3.05</td>\n      <td>$1114.06</td>\n      <td>$4.32</td>\n    </tr>\n    <tr>\n      <th>25-29</th>\n      <td>101</td>\n      <td>$2.90</td>\n      <td>$293.00</td>\n      <td>$3.81</td>\n    </tr>\n    <tr>\n      <th>30-34</th>\n      <td>73</td>\n      <td>$2.93</td>\n      <td>$214.00</td>\n      <td>$4.12</td>\n    </tr>\n    <tr>\n      <th>35-39</th>\n      <td>41</td>\n      <td>$3.60</td>\n      <td>$147.67</td>\n      <td>$4.76</td>\n    </tr>\n    <tr>\n      <th>40+</th>\n      <td>13</td>\n      <td>$2.94</td>\n      <td>$38.24</td>\n      <td>$3.19</td>\n    </tr>\n  </tbody>\n</table>\n</div>"
     },
     "metadata": {},
     "execution_count": 8
    }
   ],
   "source": [
    "# Bin the purchase_data data frame by age\n",
    "purchase_data_df[\"Age Ranges\"] = pd.cut(purchase_data_df[\"Age\"],bins,labels = bin_names)\n",
    "\n",
    "ages_grouped = purchase_data_df.groupby(by=\"Age Ranges\")\n",
    "\n",
    "age_purch_count = ages_grouped[\"Purchase ID\"].count()\n",
    "age_average = ages_grouped[\"Price\"].mean()\n",
    "age_total_purchase = ages_grouped[\"Price\"].sum()\n",
    "age_avg_total_per = (age_total_purchase/age_count)\n",
    "\n",
    "age_purch_summary = {\"Purchase Count\":age_purch_count,\"Average Purchase Price\":age_average,\"Total Purchase Value\":age_total_purchase,\"Avg Total Purchase per Person\":age_avg_total_per}\n",
    "\n",
    "age_summary_df = pd.DataFrame(age_purch_summary, columns = [\"Purchase Count\",\"Average Purchase Price\",\"Total Purchase Value\",\"Avg Total Purchase per Person\"])\n",
    "age_summary_df[\"Purchase Count\"] = age_purch_count\n",
    "age_summary_df[\"Average Purchase Price\"] = age_average.apply(\"${:.2f}\".format)\n",
    "age_summary_df[\"Total Purchase Value\"] = age_total_purchase.apply(\"${:.2f}\".format)\n",
    "age_summary_df[\"Avg Total Purchase per Person\"] = age_avg_total_per.apply(\"${:.2f}\".format)\n",
    "\n",
    "age_summary_df"
   ]
  },
  {
   "source": [
    "# Index DataFrame\n",
    "purchase_data_indexed = purchase_data_df.set_index([\"SN\"])\n",
    "\n",
    "# Run basic calculations to obtain the results in the table below\n",
    "topspenders_df = purchase_data_indexed.groupby(\"SN\")\n",
    "topspenders_purch_count = topspenders_df[\"Purchase ID\"].count()\n",
    "topspenders_purch_avg = topspenders_df[\"Price\"].mean()\n",
    "topspenders_total_purch = topspenders_df[\"Price\"].sum()\n",
    "\n",
    "# Create a summary data frame to hold the results\n",
    "summary_df = pd.DataFrame({\n",
    "    \"Purchase Count\":topspenders_purch_count,\n",
    "    \"Average Purchase Price\":topspenders_purch_avg,\n",
    "    \"Total Purchase Value\":topspenders_total_purch})\n",
    "\n",
    "# Sort the total purchase value column in descending order\n",
    "summary_sorted = summary_df.sort_values(by = \"Total Purchase Value\",ascending = False)\n",
    "\n",
    "# Optional: give the displayed data cleaner formatting\n",
    "summary_sorted[\"Average Purchase Price\"] = topspenders_purch_avg.apply(\"${:.2f}\".format)\n",
    "summary_sorted[\"Total Purchase Value\"] = topspenders_total_purch.apply(\"${:.2f}\".format)\n",
    "\n",
    "# Display a preview of the summary data frame\n",
    "summary_sorted.head()"
   ],
   "cell_type": "code",
   "metadata": {},
   "execution_count": 9,
   "outputs": [
    {
     "output_type": "execute_result",
     "data": {
      "text/plain": [
       "             Purchase Count Average Purchase Price Total Purchase Value\n",
       "SN                                                                     \n",
       "Lisosia93                 5                  $3.79               $18.96\n",
       "Idastidru52               4                  $3.86               $15.45\n",
       "Chamjask73                3                  $4.61               $13.83\n",
       "Iral74                    4                  $3.40               $13.62\n",
       "Iskadarya95               3                  $4.37               $13.10"
      ],
      "text/html": "<div>\n<style scoped>\n    .dataframe tbody tr th:only-of-type {\n        vertical-align: middle;\n    }\n\n    .dataframe tbody tr th {\n        vertical-align: top;\n    }\n\n    .dataframe thead th {\n        text-align: right;\n    }\n</style>\n<table border=\"1\" class=\"dataframe\">\n  <thead>\n    <tr style=\"text-align: right;\">\n      <th></th>\n      <th>Purchase Count</th>\n      <th>Average Purchase Price</th>\n      <th>Total Purchase Value</th>\n    </tr>\n    <tr>\n      <th>SN</th>\n      <th></th>\n      <th></th>\n      <th></th>\n    </tr>\n  </thead>\n  <tbody>\n    <tr>\n      <th>Lisosia93</th>\n      <td>5</td>\n      <td>$3.79</td>\n      <td>$18.96</td>\n    </tr>\n    <tr>\n      <th>Idastidru52</th>\n      <td>4</td>\n      <td>$3.86</td>\n      <td>$15.45</td>\n    </tr>\n    <tr>\n      <th>Chamjask73</th>\n      <td>3</td>\n      <td>$4.61</td>\n      <td>$13.83</td>\n    </tr>\n    <tr>\n      <th>Iral74</th>\n      <td>4</td>\n      <td>$3.40</td>\n      <td>$13.62</td>\n    </tr>\n    <tr>\n      <th>Iskadarya95</th>\n      <td>3</td>\n      <td>$4.37</td>\n      <td>$13.10</td>\n    </tr>\n  </tbody>\n</table>\n</div>"
     },
     "metadata": {},
     "execution_count": 9
    }
   ]
  },
  {
   "source": [
    "# * Retrieve the Item ID, Item Name, and Item Price columns\n",
    "items_purchase_data_indexed = purchase_data_df.set_index([\"Item ID\",\"Item Name\"])\n",
    "popularitems_df = items_purchase_data_indexed.groupby([\"Item ID\",\"Item Name\"])\n",
    "\n",
    "# * Group by Item ID and Item Name. Perform calculations to obtain purchase count, average item price, and total purchase value\n",
    "popularitems_purch_count = popularitems_df[\"Purchase ID\"].count()\n",
    "popularitems_purch_avg = popularitems_df[\"Price\"].mean()\n",
    "popularitems_total_purch = popularitems_df[\"Price\"].sum()\n",
    "\n",
    "# * Create a summary data frame to hold the results\n",
    "items_summary = {\"Purchase Count\":popularitems_purch_count,\n",
    "    \"Average Purchase Price\":popularitems_purch_avg,\n",
    "    \"Total Purchase Value\":popularitems_total_purch}\n",
    "items_summary_df = pd.DataFrame(items_summary)\n",
    "\n",
    "# * Sort the purchase count column in descending order\n",
    "items_summary_sorted = items_summary_df.sort_values(by =\"Purchase Count\",ascending = False)\n",
    "\n",
    "# * Optional: give the displayed data cleaner formatting\n",
    "items_summary_sorted[\"Average Purchase Price\"] = popularitems_purch_avg.apply(\"${:.2f}\".format)\n",
    "items_summary_sorted[\"Total Purchase Value\"]=popularitems_total_purch.apply(\"${:.2f}\".format)\n",
    "\n",
    "# * Display a preview of the summary data frame\n",
    "items_summary_sorted.head()"
   ],
   "cell_type": "code",
   "metadata": {},
   "execution_count": 10,
   "outputs": [
    {
     "output_type": "execute_result",
     "data": {
      "text/plain": [
       "                                                      Purchase Count  \\\n",
       "Item ID Item Name                                                      \n",
       "92      Final Critic                                              13   \n",
       "178     Oathbreaker, Last Hope of the Breaking Storm              12   \n",
       "145     Fiery Glass Crusader                                       9   \n",
       "132     Persuasion                                                 9   \n",
       "108     Extraction, Quickblade Of Trembling Hands                  9   \n",
       "\n",
       "                                                     Average Purchase Price  \\\n",
       "Item ID Item Name                                                             \n",
       "92      Final Critic                                                  $4.61   \n",
       "178     Oathbreaker, Last Hope of the Breaking Storm                  $4.23   \n",
       "145     Fiery Glass Crusader                                          $4.58   \n",
       "132     Persuasion                                                    $3.22   \n",
       "108     Extraction, Quickblade Of Trembling Hands                     $3.53   \n",
       "\n",
       "                                                     Total Purchase Value  \n",
       "Item ID Item Name                                                          \n",
       "92      Final Critic                                               $59.99  \n",
       "178     Oathbreaker, Last Hope of the Breaking Storm               $50.76  \n",
       "145     Fiery Glass Crusader                                       $41.22  \n",
       "132     Persuasion                                                 $28.99  \n",
       "108     Extraction, Quickblade Of Trembling Hands                  $31.77  "
      ],
      "text/html": "<div>\n<style scoped>\n    .dataframe tbody tr th:only-of-type {\n        vertical-align: middle;\n    }\n\n    .dataframe tbody tr th {\n        vertical-align: top;\n    }\n\n    .dataframe thead th {\n        text-align: right;\n    }\n</style>\n<table border=\"1\" class=\"dataframe\">\n  <thead>\n    <tr style=\"text-align: right;\">\n      <th></th>\n      <th></th>\n      <th>Purchase Count</th>\n      <th>Average Purchase Price</th>\n      <th>Total Purchase Value</th>\n    </tr>\n    <tr>\n      <th>Item ID</th>\n      <th>Item Name</th>\n      <th></th>\n      <th></th>\n      <th></th>\n    </tr>\n  </thead>\n  <tbody>\n    <tr>\n      <th>92</th>\n      <th>Final Critic</th>\n      <td>13</td>\n      <td>$4.61</td>\n      <td>$59.99</td>\n    </tr>\n    <tr>\n      <th>178</th>\n      <th>Oathbreaker, Last Hope of the Breaking Storm</th>\n      <td>12</td>\n      <td>$4.23</td>\n      <td>$50.76</td>\n    </tr>\n    <tr>\n      <th>145</th>\n      <th>Fiery Glass Crusader</th>\n      <td>9</td>\n      <td>$4.58</td>\n      <td>$41.22</td>\n    </tr>\n    <tr>\n      <th>132</th>\n      <th>Persuasion</th>\n      <td>9</td>\n      <td>$3.22</td>\n      <td>$28.99</td>\n    </tr>\n    <tr>\n      <th>108</th>\n      <th>Extraction, Quickblade Of Trembling Hands</th>\n      <td>9</td>\n      <td>$3.53</td>\n      <td>$31.77</td>\n    </tr>\n  </tbody>\n</table>\n</div>"
     },
     "metadata": {},
     "execution_count": 10
    }
   ]
  },
  {
   "cell_type": "markdown",
   "metadata": {},
   "source": [
    "## Most Profitable Items"
   ]
  },
  {
   "source": [
    "# * Sort the above table by total purchase value in descending order\n",
    "items_purchase_data_indexed = purchase_data_df.set_index([\"Item ID\",\"Item Name\"])\n",
    "popularitems_df = items_purchase_data_indexed.groupby([\"Item ID\",\"Item Name\"])\n",
    "\n",
    "# Perform calculations to obtain purchase count, average item price, and total purchase value\n",
    "popularitems_purch_count = popularitems_df[\"Purchase ID\"].count()\n",
    "popularitems_purch_avg = popularitems_df[\"Price\"].mean()\n",
    "popularitems_total_purch = popularitems_df[\"Price\"].sum()\n",
    "\n",
    "# * Create a summary data frame to hold the results\n",
    "items_summary = {\"Purchase Count\":popularitems_purch_count,\n",
    "    \"Average Purchase Price\":popularitems_purch_avg,\n",
    "    \"Total Purchase Value\":popularitems_total_purch}\n",
    "items_summary_df = pd.DataFrame(items_summary)\n",
    "\n",
    "# * Sort the total purchase value in descending order\n",
    "items_summary_sorted = items_summary_df.sort_values(by =\"Total Purchase Value\",ascending = False)\n",
    "\n",
    "# * Optional: give the displayed data cleaner formatting\n",
    "items_summary_sorted[\"Average Purchase Price\"] = popularitems_purch_avg.apply(\"${:.2f}\".format)\n",
    "items_summary_sorted[\"Total Purchase Value\"]=popularitems_total_purch.apply(\"${:.2f}\".format)\n",
    "\n",
    "# * Display a preview of the data frame\n",
    "items_summary_sorted.head()"
   ],
   "cell_type": "code",
   "metadata": {},
   "execution_count": 11,
   "outputs": [
    {
     "output_type": "execute_result",
     "data": {
      "text/plain": [
       "                                                      Purchase Count  \\\n",
       "Item ID Item Name                                                      \n",
       "92      Final Critic                                              13   \n",
       "178     Oathbreaker, Last Hope of the Breaking Storm              12   \n",
       "82      Nirvana                                                    9   \n",
       "145     Fiery Glass Crusader                                       9   \n",
       "103     Singed Scalpel                                             8   \n",
       "\n",
       "                                                     Average Purchase Price  \\\n",
       "Item ID Item Name                                                             \n",
       "92      Final Critic                                                  $4.61   \n",
       "178     Oathbreaker, Last Hope of the Breaking Storm                  $4.23   \n",
       "82      Nirvana                                                       $4.90   \n",
       "145     Fiery Glass Crusader                                          $4.58   \n",
       "103     Singed Scalpel                                                $4.35   \n",
       "\n",
       "                                                     Total Purchase Value  \n",
       "Item ID Item Name                                                          \n",
       "92      Final Critic                                               $59.99  \n",
       "178     Oathbreaker, Last Hope of the Breaking Storm               $50.76  \n",
       "82      Nirvana                                                    $44.10  \n",
       "145     Fiery Glass Crusader                                       $41.22  \n",
       "103     Singed Scalpel                                             $34.80  "
      ],
      "text/html": "<div>\n<style scoped>\n    .dataframe tbody tr th:only-of-type {\n        vertical-align: middle;\n    }\n\n    .dataframe tbody tr th {\n        vertical-align: top;\n    }\n\n    .dataframe thead th {\n        text-align: right;\n    }\n</style>\n<table border=\"1\" class=\"dataframe\">\n  <thead>\n    <tr style=\"text-align: right;\">\n      <th></th>\n      <th></th>\n      <th>Purchase Count</th>\n      <th>Average Purchase Price</th>\n      <th>Total Purchase Value</th>\n    </tr>\n    <tr>\n      <th>Item ID</th>\n      <th>Item Name</th>\n      <th></th>\n      <th></th>\n      <th></th>\n    </tr>\n  </thead>\n  <tbody>\n    <tr>\n      <th>92</th>\n      <th>Final Critic</th>\n      <td>13</td>\n      <td>$4.61</td>\n      <td>$59.99</td>\n    </tr>\n    <tr>\n      <th>178</th>\n      <th>Oathbreaker, Last Hope of the Breaking Storm</th>\n      <td>12</td>\n      <td>$4.23</td>\n      <td>$50.76</td>\n    </tr>\n    <tr>\n      <th>82</th>\n      <th>Nirvana</th>\n      <td>9</td>\n      <td>$4.90</td>\n      <td>$44.10</td>\n    </tr>\n    <tr>\n      <th>145</th>\n      <th>Fiery Glass Crusader</th>\n      <td>9</td>\n      <td>$4.58</td>\n      <td>$41.22</td>\n    </tr>\n    <tr>\n      <th>103</th>\n      <th>Singed Scalpel</th>\n      <td>8</td>\n      <td>$4.35</td>\n      <td>$34.80</td>\n    </tr>\n  </tbody>\n</table>\n</div>"
     },
     "metadata": {},
     "execution_count": 11
    }
   ]
  }
 ],
 "metadata": {
  "anaconda-cloud": {},
  "kernel_info": {
   "name": "python3"
  },
  "kernelspec": {
   "name": "python3610jvsc74a57bd003e16bf20b38c5bc3bf00c976c15238982088169e9834c6084af3096887b3e40",
   "display_name": "Python 3.6.10 64-bit ('PythonData': conda)"
  },
  "language_info": {
   "codemirror_mode": {
    "name": "ipython",
    "version": 3
   },
   "file_extension": ".py",
   "mimetype": "text/x-python",
   "name": "python",
   "nbconvert_exporter": "python",
   "pygments_lexer": "ipython3",
   "version": "3.6.10"
  },
  "latex_envs": {
   "LaTeX_envs_menu_present": true,
   "autoclose": false,
   "autocomplete": true,
   "bibliofile": "biblio.bib",
   "cite_by": "apalike",
   "current_citInitial": 1,
   "eqLabelWithNumbers": true,
   "eqNumInitial": 1,
   "hotkeys": {
    "equation": "Ctrl-E",
    "itemize": "Ctrl-I"
   },
   "labels_anchors": false,
   "latex_user_defs": false,
   "report_style_numbering": false,
   "user_envs_cfg": false
  },
  "nteract": {
   "version": "0.2.0"
  }
 },
 "nbformat": 4,
 "nbformat_minor": 2
}