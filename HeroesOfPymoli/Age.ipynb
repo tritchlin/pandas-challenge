{
 "metadata": {
  "language_info": {
   "codemirror_mode": {
    "name": "ipython",
    "version": 3
   },
   "file_extension": ".py",
   "mimetype": "text/x-python",
   "name": "python",
   "nbconvert_exporter": "python",
   "pygments_lexer": "ipython3",
   "version": "3.8.5"
  },
  "orig_nbformat": 2,
  "kernelspec": {
   "name": "python385jvsc74a57bd0529132a0304f6942232d254cf48ed3625da64896b65b1a7f769697594a4a7c46",
   "display_name": "Python 3.8.5 64-bit ('base': conda)"
  }
 },
 "nbformat": 4,
 "nbformat_minor": 2,
 "cells": [
  {
   "cell_type": "code",
   "execution_count": 1,
   "metadata": {},
   "outputs": [],
   "source": [
    "# Dependencies and Setup\n",
    "import pandas as pd\n",
    "\n",
    "# File to Load (Remember to Change These)\n",
    "data_csv = \"Resources/purchase_data.csv\"\n",
    "\n",
    "# Read Purchasing File and store into Pandas data frame\n",
    "purchase_data_df = pd.read_csv(data_csv)"
   ]
  },
  {
   "cell_type": "code",
   "execution_count": 2,
   "metadata": {},
   "outputs": [],
   "source": [
    "# Formatting Variables\n",
    "currency = \"${:.2f}\".format\n",
    "percentage = \"{:.2f}%\".format"
   ]
  },
  {
   "cell_type": "code",
   "execution_count": 3,
   "metadata": {},
   "outputs": [
    {
     "output_type": "execute_result",
     "data": {
      "text/plain": [
       "   Total Players\n",
       "0            576"
      ],
      "text/html": "<div>\n<style scoped>\n    .dataframe tbody tr th:only-of-type {\n        vertical-align: middle;\n    }\n\n    .dataframe tbody tr th {\n        vertical-align: top;\n    }\n\n    .dataframe thead th {\n        text-align: right;\n    }\n</style>\n<table border=\"1\" class=\"dataframe\">\n  <thead>\n    <tr style=\"text-align: right;\">\n      <th></th>\n      <th>Total Players</th>\n    </tr>\n  </thead>\n  <tbody>\n    <tr>\n      <th>0</th>\n      <td>576</td>\n    </tr>\n  </tbody>\n</table>\n</div>"
     },
     "metadata": {},
     "execution_count": 3
    }
   ],
   "source": [
    "# Group dataframe by \"SN\" and count number of unique names\n",
    "player_unique_df = purchase_data_df.drop_duplicates(subset=\"SN\")\n",
    "player_count = len(player_unique_df)\n",
    "\n",
    "# Display total player count as dataframe and format column name\n",
    "player_count_df = pd.DataFrame([player_count])\n",
    "player_count_df.columns = [\"Total Players\"]\n",
    "\n",
    "player_count_df"
   ]
  },
  {
   "cell_type": "code",
   "execution_count": 4,
   "metadata": {},
   "outputs": [
    {
     "output_type": "execute_result",
     "data": {
      "text/plain": [
       "       Total Count Percentage of Players\n",
       "<10             17                 2.95%\n",
       "10-14           22                 3.82%\n",
       "15-19          107                18.58%\n",
       "20-24          258                44.79%\n",
       "25-29           77                13.37%\n",
       "30-34           52                 9.03%\n",
       "35-39           31                 5.38%\n",
       "40+             12                 2.08%"
      ],
      "text/html": "<div>\n<style scoped>\n    .dataframe tbody tr th:only-of-type {\n        vertical-align: middle;\n    }\n\n    .dataframe tbody tr th {\n        vertical-align: top;\n    }\n\n    .dataframe thead th {\n        text-align: right;\n    }\n</style>\n<table border=\"1\" class=\"dataframe\">\n  <thead>\n    <tr style=\"text-align: right;\">\n      <th></th>\n      <th>Total Count</th>\n      <th>Percentage of Players</th>\n    </tr>\n  </thead>\n  <tbody>\n    <tr>\n      <th>&lt;10</th>\n      <td>17</td>\n      <td>2.95%</td>\n    </tr>\n    <tr>\n      <th>10-14</th>\n      <td>22</td>\n      <td>3.82%</td>\n    </tr>\n    <tr>\n      <th>15-19</th>\n      <td>107</td>\n      <td>18.58%</td>\n    </tr>\n    <tr>\n      <th>20-24</th>\n      <td>258</td>\n      <td>44.79%</td>\n    </tr>\n    <tr>\n      <th>25-29</th>\n      <td>77</td>\n      <td>13.37%</td>\n    </tr>\n    <tr>\n      <th>30-34</th>\n      <td>52</td>\n      <td>9.03%</td>\n    </tr>\n    <tr>\n      <th>35-39</th>\n      <td>31</td>\n      <td>5.38%</td>\n    </tr>\n    <tr>\n      <th>40+</th>\n      <td>12</td>\n      <td>2.08%</td>\n    </tr>\n  </tbody>\n</table>\n</div>"
     },
     "metadata": {},
     "execution_count": 4
    }
   ],
   "source": [
    "# Establish bins for ages, categorize players by age group\n",
    "bins = [0,9,14,19,24,29,34,39,100]\n",
    "bin_names = [\"<10\",\"10-14\",\"15-19\",\"20-24\",\"25-29\",\"30-34\",\"35-39\",\"40+\"]\n",
    "player_age = pd.cut(player_unique_df[\"Age\"],bins,labels = bin_names,include_lowest=True)\n",
    "\n",
    "# Calculate player count and percentages by age group, include formatting\n",
    "age_count = player_age.value_counts()\n",
    "age_percentage = (age_count/player_count)*100\n",
    "age_population = {\"Total Count\":age_count,\"Percentage of Players\":age_percentage.apply(\"{:.2f}%\".format)}\n",
    "\n",
    "# Create and display a summary data frame to hold the results, with index sorted from youngest to oldest.\n",
    "age_df = pd.DataFrame(age_population).sort_index(axis=0)\n",
    "age_df"
   ]
  },
  {
   "cell_type": "code",
   "execution_count": 7,
   "metadata": {},
   "outputs": [
    {
     "output_type": "error",
     "ename": "NameError",
     "evalue": "name 'np' is not defined",
     "traceback": [
      "\u001b[1;31m---------------------------------------------------------------------------\u001b[0m",
      "\u001b[1;31mNameError\u001b[0m                                 Traceback (most recent call last)",
      "\u001b[1;32m<ipython-input-7-0920857dda67>\u001b[0m in \u001b[0;36m<module>\u001b[1;34m\u001b[0m\n\u001b[0;32m      1\u001b[0m \u001b[1;31m# Bin the purchase_data data frame by age\u001b[0m\u001b[1;33m\u001b[0m\u001b[1;33m\u001b[0m\u001b[1;33m\u001b[0m\u001b[0m\n\u001b[0;32m      2\u001b[0m \u001b[0mpd\u001b[0m\u001b[1;33m.\u001b[0m\u001b[0mcut\u001b[0m\u001b[1;33m(\u001b[0m\u001b[0mpurchase_data_df\u001b[0m\u001b[1;33m[\u001b[0m\u001b[1;34m\"Age\"\u001b[0m\u001b[1;33m]\u001b[0m\u001b[1;33m,\u001b[0m\u001b[0mbins\u001b[0m\u001b[1;33m,\u001b[0m\u001b[0mlabels\u001b[0m \u001b[1;33m=\u001b[0m \u001b[0mbin_names\u001b[0m\u001b[1;33m)\u001b[0m\u001b[1;33m.\u001b[0m\u001b[0mhead\u001b[0m\u001b[1;33m(\u001b[0m\u001b[1;33m)\u001b[0m\u001b[1;33m\u001b[0m\u001b[1;33m\u001b[0m\u001b[0m\n\u001b[1;32m----> 3\u001b[1;33m \u001b[0mpurchase_data_df\u001b[0m\u001b[1;33m[\u001b[0m\u001b[1;34m\"Age Group\"\u001b[0m\u001b[1;33m]\u001b[0m \u001b[1;33m=\u001b[0m \u001b[0mpd\u001b[0m\u001b[1;33m.\u001b[0m\u001b[0mcut\u001b[0m\u001b[1;33m(\u001b[0m\u001b[0mnp\u001b[0m\u001b[1;33m.\u001b[0m\u001b[0marray\u001b[0m\u001b[1;33m(\u001b[0m\u001b[0mpurchase_data_df\u001b[0m\u001b[1;33m[\u001b[0m\u001b[1;34m\"Age\"\u001b[0m\u001b[1;33m]\u001b[0m\u001b[1;33m)\u001b[0m\u001b[1;33m,\u001b[0m\u001b[0mbins\u001b[0m\u001b[1;33m,\u001b[0m\u001b[0mlabels\u001b[0m \u001b[1;33m=\u001b[0m \u001b[0mbin_names\u001b[0m\u001b[1;33m)\u001b[0m\u001b[1;33m\u001b[0m\u001b[1;33m\u001b[0m\u001b[0m\n\u001b[0m\u001b[0;32m      4\u001b[0m \u001b[1;33m\u001b[0m\u001b[0m\n\u001b[0;32m      5\u001b[0m \u001b[0mpurchase_data_df\u001b[0m\u001b[1;33m[\u001b[0m\u001b[1;34m\"Age Group\"\u001b[0m\u001b[1;33m]\u001b[0m\u001b[1;33m\u001b[0m\u001b[1;33m\u001b[0m\u001b[0m\n",
      "\u001b[1;31mNameError\u001b[0m: name 'np' is not defined"
     ]
    }
   ],
   "source": [
    "# Bin the purchase_data data frame by age\n",
    "pd.cut(purchase_data_df[\"Age\"],bins,labels = bin_names).head()\n",
    "purchase_data_df[\"Age Group\"] = pd.cut(np.array(purchase_data_df[\"Age\"]),bins,labels = bin_names)\n",
    "\n",
    "purchase_data_df[\"Age Group\"]"
   ]
  },
  {
   "cell_type": "code",
   "execution_count": 11,
   "metadata": {},
   "outputs": [
    {
     "output_type": "execute_result",
     "data": {
      "text/plain": [
       "True"
      ]
     },
     "metadata": {},
     "execution_count": 11
    }
   ],
   "source": [
    "group = purchase_data_df.groupby(\"Age Group\")\n",
    "purchase_data_df.index.is_unique"
   ]
  },
  {
   "cell_type": "code",
   "execution_count": 10,
   "metadata": {},
   "outputs": [
    {
     "output_type": "execute_result",
     "data": {
      "text/plain": [
       "       0                                                  1\n",
       "0    <10       Purchase ID             SN  Age  Gender  ...\n",
       "1  10-14       Purchase ID             SN  Age  Gender  ...\n",
       "2  15-19       Purchase ID             SN  Age Gender  I...\n",
       "3  20-24       Purchase ID             SN  Age  Gender  ...\n",
       "4  25-29       Purchase ID            SN  Age  Gender  I..."
      ],
      "text/html": "<div>\n<style scoped>\n    .dataframe tbody tr th:only-of-type {\n        vertical-align: middle;\n    }\n\n    .dataframe tbody tr th {\n        vertical-align: top;\n    }\n\n    .dataframe thead th {\n        text-align: right;\n    }\n</style>\n<table border=\"1\" class=\"dataframe\">\n  <thead>\n    <tr style=\"text-align: right;\">\n      <th></th>\n      <th>0</th>\n      <th>1</th>\n    </tr>\n  </thead>\n  <tbody>\n    <tr>\n      <th>0</th>\n      <td>&lt;10</td>\n      <td>Purchase ID             SN  Age  Gender  ...</td>\n    </tr>\n    <tr>\n      <th>1</th>\n      <td>10-14</td>\n      <td>Purchase ID             SN  Age  Gender  ...</td>\n    </tr>\n    <tr>\n      <th>2</th>\n      <td>15-19</td>\n      <td>Purchase ID             SN  Age Gender  I...</td>\n    </tr>\n    <tr>\n      <th>3</th>\n      <td>20-24</td>\n      <td>Purchase ID             SN  Age  Gender  ...</td>\n    </tr>\n    <tr>\n      <th>4</th>\n      <td>25-29</td>\n      <td>Purchase ID            SN  Age  Gender  I...</td>\n    </tr>\n  </tbody>\n</table>\n</div>"
     },
     "metadata": {},
     "execution_count": 10
    }
   ],
   "source": [
    "grouped = pd.DataFrame(group)\n",
    "grouped.head()"
   ]
  },
  {
   "cell_type": "code",
   "execution_count": null,
   "metadata": {},
   "outputs": [],
   "source": [
    "age_group = purchase_data_df.groupby(\"Age Group\")\n",
    "print(age_group[\"Price\".count()])\n",
    "# age_purch_count = player_age_group.count()\n",
    "# age_average = [age_purchase[\"Price\"].mean().apply(\"${:.2f}\".format)]\n",
    "# age_total_purchase = [age_purchase[\"Price\"].sum().apply(\"${:.2f}\".format)]\n",
    "# age_avg_total_per = [(age_purchase[\"Price\"].sum()/age_count).apply(\"${:.2f}\".format)]\n",
    "# player_age_group.head()\n",
    "# age_group_df.head()"
   ]
  },
  {
   "cell_type": "code",
   "execution_count": null,
   "metadata": {},
   "outputs": [],
   "source": [
    "\n",
    "age_summary_df = pd.DataFrame({\n",
    "    \"Purchase Count\":age_purch_count,\n",
    "    \"Average Purchase Price\":age_average,\n",
    "    \"Total Purchase Value\":age_total_purchase,\n",
    "    \"Avg Total Purchase per Person\":age_avg_total_per\n",
    "})\n",
    "\n",
    "age_summary_df = age_summary_df.reset_index(axis=1)"
   ]
  }
 ]
}